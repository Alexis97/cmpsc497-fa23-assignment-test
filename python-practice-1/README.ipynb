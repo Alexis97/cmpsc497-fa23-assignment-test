{
  "cells": [
    {
      "cell_type": "markdown",
      "metadata": {
        "id": "yv2rBNtijydL"
      },
      "source": [
        "# Python practice using stacks\n",
        "\n",
        "For this class assignment, we'll work on building a stack class in Python.\n",
        "\n",
        "### Rubric\n",
        "- 5pts: You turn in code that is 100% correct (your stack works as it should)\n",
        "- 4pts: You turn in code that has (at most) one method that does not work correctly **OR** You turn in a reasonable attempt (that runs without errors) by 3pm\n",
        "- 3pts: You turn in code that is close to correct and runs without errors, but has several methods that don't work as they should\n",
        "- 2pts: You turn in code that does not work as it should and does not run without errors\n",
        "- 1pts: You turned in something?\n",
        "\n",
        "As long as you turn in a reasonable attempt by 3pm (basically turn it in at the end of class) you are guaranteed at least a 4/5.\n",
        "\n",
        "**You must create a file called `stack.py` in this directory and place the code your write into that file!**\n",
        "When submitting to gradescope, you should submit your (github) classroom repo.\n",
        "\n",
        "### A note on collaboration/group help\n",
        "I do not mind folks working together to understand the answers if your having a bit of trouble. Realize that this is meant to be a practice a assignment for you to use to practice a bit with the `Stack ADT` and `Linked Lists`. If you straight-up copy stuff, you're really only hurting yourself, but _you do you_ ¯\\\\_(ツ)_/¯.\n",
        "\n",
        "<div align=\"center\">\n",
        "\n",
        "<img src=\"imgs/Stack1ImgHelp.gif\" class=\"stackImgs\" />\n",
        "\n",
        "</div>\n",
        "\n",
        "### Let's kill the lights and jump into some Stack code\n",
        "\n",
        "<div align=\"center\">\n",
        "\n",
        "<img src=\"imgs/Stack1Img1.gif\" class=\"stackImgs\" />\n",
        "\n",
        "</div>\n",
        "\n",
        "## Developing the Stack class\n",
        "\n",
        "For this exercise, we'll use `Linked Nodes` (a linked list) to as our underlying data structure for the stack class.\n",
        "\n",
        "### Stack Node Helper class\n",
        "\n",
        "We'll create a `_StackNode` helper class. Notice that we use the underscore (\"\\_\") to denote that it is a _hidden_ classn (meaning that only our Stack actually should/will use it)"
      ]
    },
    {
      "cell_type": "code",
      "execution_count": null,
      "metadata": {
        "id": "tuG4YgO3ppc-"
      },
      "outputs": [],
      "source": [
        "class _StackNode :\n",
        "\tdef __init__( self, item, link ) :\n",
        "\t\tself.item = item\n",
        "\t\tself.next = link"
      ]
    },
    {
      "cell_type": "markdown",
      "metadata": {
        "id": "muEApfTSs3Ta"
      },
      "source": [
        "### Stack class\n",
        "\n",
        "For our `Stack` class, we want to create several methods:\n",
        "- `push` an item on to the _top_ of the stack\n",
        "- `pop` an item from the top of the stack\n",
        "- `peek` to see what is on the top of the stack\n",
        "- `is_empty` to check whether the stake is empty\n",
        "- `__len__` (_overload_ the `len()` python method for a Stack object instance)\n",
        "- `__init__` (a constructor for our Stack class)\n",
        "\n",
        "I'm going to give you the constructor (`__init__`) and the `peek` method\n",
        "\n",
        "#### The constructor\n",
        "We start by creating a construtor that simply initializes an empty stack, with the `_top` of the stack being pointed to `None` and the `_size` of our stack being initially 0."
      ]
    },
    {
      "cell_type": "code",
      "execution_count": null,
      "metadata": {
        "id": "jSJ_0S2ts7Gh"
      },
      "outputs": [],
      "source": [
        "class Stack :\n",
        "\tdef __init__( self ):\n",
        "\t\tself._top = None\n",
        "\t\tself._size = 0"
      ]
    },
    {
      "cell_type": "markdown",
      "metadata": {
        "id": "PagmnC1os-Po"
      },
      "source": [
        "#### The `peek` method\n",
        "The peek method allows us to \"see\" what is on the top of the stack. It returns the item being pointed to by the `_top` attribute. In addition, our assert statement assures that the stack is not empty."
      ]
    },
    {
      "cell_type": "code",
      "execution_count": null,
      "metadata": {
        "id": "D4lVJI0ktC4p"
      },
      "outputs": [],
      "source": [
        "\tdef peek( self ):\n",
        "\t\tassert not self.is_empty(), \"Cannot peek at an empty stack\"\n",
        "\t\treturn (self._top.item)"
      ]
    },
    {
      "cell_type": "markdown",
      "metadata": {
        "id": "Eh1KAn83tLZf"
      },
      "source": [
        "#### The remaining methods\n",
        "Your job is to complete the remaining methods\n",
        "\n",
        "##### The `push` method\n",
        "This method will _push_ an item to the _top_ of your Stack. This method takes in an `item`, it is up to you to create StackNode to encapsulate (hold) the item and _point_ to the next Node (i.e., using the `_next` attribute of your new StackNode that will be at the `_top_` of your Stack)."
      ]
    },
    {
      "cell_type": "code",
      "execution_count": null,
      "metadata": {
        "id": "OJIZWKCdtNe1"
      },
      "outputs": [],
      "source": [
        "\tdef push( self, item ):\n",
        "\t\t''' Method to push an item to the top of a Stack\n",
        "\t\t'''"
      ]
    },
    {
      "cell_type": "markdown",
      "metadata": {
        "id": "2UWyEyowtUw_"
      },
      "source": [
        "##### The `pop` method\n",
        "This method will _pop_ an item from the _top_ of your Stack. This method should return the `item` at the top of the stack (__not the entire StackNode__.) Your `pop` method will need to change the pointer of the `_head` so that it is not pointing to the `_StackNode` at the top of the Stack, but instead the StackNode `_next` to the previous top StackNode. Don't forget to update your `size`!"
      ]
    },
    {
      "cell_type": "code",
      "execution_count": null,
      "metadata": {
        "id": "CKtsG1oitZeU"
      },
      "outputs": [],
      "source": [
        "\tdef pop(self):\n",
        "\t\t''' Method to pop an item from the top of a Stack\n",
        "\t\t'''"
      ]
    },
    {
      "cell_type": "markdown",
      "metadata": {
        "id": "Zk-KvnbItbck"
      },
      "source": [
        "##### The `__len__` method\n",
        "This method will return the number of items currently in your Stack"
      ]
    },
    {
      "cell_type": "code",
      "execution_count": null,
      "metadata": {
        "id": "cRb0Sb8cQJFC"
      },
      "outputs": [],
      "source": [
        "\tdef __len__(self):\n",
        "\t\t''' Overrides the Python len() method for Stack objects\n",
        "\t\t'''"
      ]
    },
    {
      "cell_type": "markdown",
      "metadata": {
        "id": "fDa_8kZKQMyn"
      },
      "source": [
        "##### The `__is_empty__` method\n",
        "This method will return a boolean that tells us whether the Stack is (or is not empty)"
      ]
    },
    {
      "cell_type": "code",
      "execution_count": null,
      "metadata": {
        "id": "7G_MCxQItxYg"
      },
      "outputs": [],
      "source": [
        "\tdef __is_empty__(self):\n",
        "\t\t''' Used to tell us whether the Stack is empty (returns a True or False)\n",
        "\t\t'''"
      ]
    }
  ],
  "metadata": {
    "colab": {
      "provenance": []
    },
    "kernelspec": {
      "display_name": "Python 3",
      "name": "python3"
    },
    "language_info": {
      "name": "python"
    }
  },
  "nbformat": 4,
  "nbformat_minor": 0
}
